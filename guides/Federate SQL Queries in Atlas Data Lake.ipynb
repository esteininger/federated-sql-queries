{
 "cells": [
  {
   "cell_type": "code",
   "execution_count": 17,
   "metadata": {},
   "outputs": [],
   "source": [
    "from datetime import datetime\n",
    "import ssl\n",
    "from config import datalake_url\n",
    "from pymongo import MongoClient\n",
    "from pprint import pprint"
   ]
  },
  {
   "cell_type": "code",
   "execution_count": 18,
   "metadata": {},
   "outputs": [],
   "source": [
    "dl_a_conn = MongoClient(datalake_url, ssl_cert_reqs=ssl.CERT_NONE)['esteininger-personal-datalake']\n",
    "dl_s3_conn = MongoClient(datalake_url, ssl_cert_reqs=ssl.CERT_NONE)['esteininger-personal-datalake-s3']"
   ]
  },
  {
   "cell_type": "markdown",
   "metadata": {},
   "source": [
    "# Create the schema"
   ]
  },
  {
   "cell_type": "code",
   "execution_count": 19,
   "metadata": {},
   "outputs": [
    {
     "name": "stdout",
     "output_type": "stream",
     "text": [
      "{'ok': 1, 'schemas': [{'databaseName': 'esteininger-personal-datalake-s3', 'namespaces': [{'name': 'less_than_25.1', 'schema': {'version': 1, 'jsonSchema': {'bsonType': ['object'], 'properties': {'inc': {'bsonType': ['int']}, 'options': {'bsonType': ['object']}, '_id': {'bsonType': ['objectId']}, 'event': {'bsonType': ['string']}, 'properties': {'bsonType': ['object'], 'properties': {'title': {'bsonType': ['string']}, 'url': {'bsonType': ['string']}, 'path': {'bsonType': ['string']}, 'referrer': {'bsonType': ['string']}, 'foo': {'bsonType': ['string']}, 'lorem': {'bsonType': ['string']}}}, 'user_id': {'bsonType': ['string']}, 'meta': {'bsonType': ['object'], 'properties': {'timestamp': {'bsonType': ['double']}}}}}}}, {'name': 'sample.1', 'schema': {'version': 1, 'jsonSchema': {'bsonType': ['object'], 'properties': {'user_id': {'bsonType': ['string']}, 'meta': {'bsonType': ['object'], 'properties': {'timestamp': {'bsonType': ['double']}}}, 'inc': {'bsonType': ['int']}, 'options': {'bsonType': ['object']}, '_id': {'bsonType': ['objectId']}, 'event': {'bsonType': ['string']}, 'properties': {'bsonType': ['object'], 'properties': {'title': {'bsonType': ['string']}, 'url': {'bsonType': ['string']}, 'path': {'bsonType': ['string']}, 'referrer': {'bsonType': ['string']}, 'foo': {'bsonType': ['string']}, 'lorem': {'bsonType': ['string']}}}}}}}, {'name': 'tes2t.1', 'schema': {'version': 1, 'jsonSchema': {'bsonType': ['object'], 'properties': {'options': {'bsonType': ['object']}, '_id': {'bsonType': ['objectId']}, 'event': {'bsonType': ['string']}, 'properties': {'bsonType': ['object'], 'properties': {'referrer': {'bsonType': ['string']}, 'foo': {'bsonType': ['string']}, 'lorem': {'bsonType': ['string']}, 'title': {'bsonType': ['string']}, 'url': {'bsonType': ['string']}, 'path': {'bsonType': ['string']}}}, 'user_id': {'bsonType': ['string']}, 'meta': {'bsonType': ['object'], 'properties': {'timestamp': {'bsonType': ['double']}}}, 'inc': {'bsonType': ['int']}}}}}]}]}\n"
     ]
    }
   ],
   "source": [
    "c = dl_s3_conn.command({'sqlGenerateSchema': 1})\n",
    "print(c)"
   ]
  },
  {
   "cell_type": "markdown",
   "metadata": {},
   "source": [
    "# Show the Schema was created"
   ]
  },
  {
   "cell_type": "code",
   "execution_count": 20,
   "metadata": {},
   "outputs": [
    {
     "name": "stdout",
     "output_type": "stream",
     "text": [
      "[{'values': [{'database': 'INFORMATION_SCHEMA', 'table': 'TABLES', 'tableAlias': 'TABLES', 'column': 'TABLE_NAME', 'columnAlias': 'TABLE_NAME', 'bsonType': 'string', 'value': 'ASSERTIONS'}]}, {'values': [{'database': 'INFORMATION_SCHEMA', 'table': 'TABLES', 'tableAlias': 'TABLES', 'column': 'TABLE_NAME', 'columnAlias': 'TABLE_NAME', 'bsonType': 'string', 'value': 'CHARACTER_SETS'}]}, {'values': [{'database': 'INFORMATION_SCHEMA', 'table': 'TABLES', 'tableAlias': 'TABLES', 'column': 'TABLE_NAME', 'columnAlias': 'TABLE_NAME', 'bsonType': 'string', 'value': 'CHECK_CONSTRAINTS'}]}, {'values': [{'database': 'INFORMATION_SCHEMA', 'table': 'TABLES', 'tableAlias': 'TABLES', 'column': 'TABLE_NAME', 'columnAlias': 'TABLE_NAME', 'bsonType': 'string', 'value': 'COLLATIONS'}]}, {'values': [{'database': 'INFORMATION_SCHEMA', 'table': 'TABLES', 'tableAlias': 'TABLES', 'column': 'TABLE_NAME', 'columnAlias': 'TABLE_NAME', 'bsonType': 'string', 'value': 'COLUMN_DOMAIN_USAGE'}]}, {'values': [{'database': 'INFORMATION_SCHEMA', 'table': 'TABLES', 'tableAlias': 'TABLES', 'column': 'TABLE_NAME', 'columnAlias': 'TABLE_NAME', 'bsonType': 'string', 'value': 'COLUMN_PRIVILEGES'}]}, {'values': [{'database': 'INFORMATION_SCHEMA', 'table': 'TABLES', 'tableAlias': 'TABLES', 'column': 'TABLE_NAME', 'columnAlias': 'TABLE_NAME', 'bsonType': 'string', 'value': 'COLUMNS'}]}, {'values': [{'database': 'INFORMATION_SCHEMA', 'table': 'TABLES', 'tableAlias': 'TABLES', 'column': 'TABLE_NAME', 'columnAlias': 'TABLE_NAME', 'bsonType': 'string', 'value': 'CONSTRAINT_COLUMN_USAGE'}]}, {'values': [{'database': 'INFORMATION_SCHEMA', 'table': 'TABLES', 'tableAlias': 'TABLES', 'column': 'TABLE_NAME', 'columnAlias': 'TABLE_NAME', 'bsonType': 'string', 'value': 'CONSTRAINT_TABLE_USAGE'}]}, {'values': [{'database': 'INFORMATION_SCHEMA', 'table': 'TABLES', 'tableAlias': 'TABLES', 'column': 'TABLE_NAME', 'columnAlias': 'TABLE_NAME', 'bsonType': 'string', 'value': 'DOMAIN_CONSTRAINTS'}]}, {'values': [{'database': 'INFORMATION_SCHEMA', 'table': 'TABLES', 'tableAlias': 'TABLES', 'column': 'TABLE_NAME', 'columnAlias': 'TABLE_NAME', 'bsonType': 'string', 'value': 'DOMAINS'}]}, {'values': [{'database': 'INFORMATION_SCHEMA', 'table': 'TABLES', 'tableAlias': 'TABLES', 'column': 'TABLE_NAME', 'columnAlias': 'TABLE_NAME', 'bsonType': 'string', 'value': 'KEY_COLUMN_USAGE'}]}, {'values': [{'database': 'INFORMATION_SCHEMA', 'table': 'TABLES', 'tableAlias': 'TABLES', 'column': 'TABLE_NAME', 'columnAlias': 'TABLE_NAME', 'bsonType': 'string', 'value': 'REFERENTIAL_CONSTRAINTS'}]}, {'values': [{'database': 'INFORMATION_SCHEMA', 'table': 'TABLES', 'tableAlias': 'TABLES', 'column': 'TABLE_NAME', 'columnAlias': 'TABLE_NAME', 'bsonType': 'string', 'value': 'SCHEMATA'}]}, {'values': [{'database': 'INFORMATION_SCHEMA', 'table': 'TABLES', 'tableAlias': 'TABLES', 'column': 'TABLE_NAME', 'columnAlias': 'TABLE_NAME', 'bsonType': 'string', 'value': 'SQL_LANGUAGES'}]}, {'values': [{'database': 'INFORMATION_SCHEMA', 'table': 'TABLES', 'tableAlias': 'TABLES', 'column': 'TABLE_NAME', 'columnAlias': 'TABLE_NAME', 'bsonType': 'string', 'value': 'TABLE_CONSTRAINTS'}]}, {'values': [{'database': 'INFORMATION_SCHEMA', 'table': 'TABLES', 'tableAlias': 'TABLES', 'column': 'TABLE_NAME', 'columnAlias': 'TABLE_NAME', 'bsonType': 'string', 'value': 'TABLE_PRIVILEGES'}]}, {'values': [{'database': 'INFORMATION_SCHEMA', 'table': 'TABLES', 'tableAlias': 'TABLES', 'column': 'TABLE_NAME', 'columnAlias': 'TABLE_NAME', 'bsonType': 'string', 'value': 'TABLES'}]}, {'values': [{'database': 'INFORMATION_SCHEMA', 'table': 'TABLES', 'tableAlias': 'TABLES', 'column': 'TABLE_NAME', 'columnAlias': 'TABLE_NAME', 'bsonType': 'string', 'value': 'TRANSLATIONS'}]}, {'values': [{'database': 'INFORMATION_SCHEMA', 'table': 'TABLES', 'tableAlias': 'TABLES', 'column': 'TABLE_NAME', 'columnAlias': 'TABLE_NAME', 'bsonType': 'string', 'value': 'USAGE_PRIVILEGES'}]}, {'values': [{'database': 'INFORMATION_SCHEMA', 'table': 'TABLES', 'tableAlias': 'TABLES', 'column': 'TABLE_NAME', 'columnAlias': 'TABLE_NAME', 'bsonType': 'string', 'value': 'VIEW_COLUMN_USAGE'}]}, {'values': [{'database': 'INFORMATION_SCHEMA', 'table': 'TABLES', 'tableAlias': 'TABLES', 'column': 'TABLE_NAME', 'columnAlias': 'TABLE_NAME', 'bsonType': 'string', 'value': 'VIEW_TABLE_USAGE'}]}, {'values': [{'database': 'INFORMATION_SCHEMA', 'table': 'TABLES', 'tableAlias': 'TABLES', 'column': 'TABLE_NAME', 'columnAlias': 'TABLE_NAME', 'bsonType': 'string', 'value': 'VIEWS'}]}, {'values': [{'database': 'INFORMATION_SCHEMA', 'table': 'TABLES', 'tableAlias': 'TABLES', 'column': 'TABLE_NAME', 'columnAlias': 'TABLE_NAME', 'bsonType': 'string', 'value': 'analytics.1'}]}, {'values': [{'database': 'INFORMATION_SCHEMA', 'table': 'TABLES', 'tableAlias': 'TABLES', 'column': 'TABLE_NAME', 'columnAlias': 'TABLE_NAME', 'bsonType': 'string', 'value': 'clickstream'}]}, {'values': [{'database': 'INFORMATION_SCHEMA', 'table': 'TABLES', 'tableAlias': 'TABLES', 'column': 'TABLE_NAME', 'columnAlias': 'TABLE_NAME', 'bsonType': 'string', 'value': 'enriched'}]}, {'values': [{'database': 'INFORMATION_SCHEMA', 'table': 'TABLES', 'tableAlias': 'TABLES', 'column': 'TABLE_NAME', 'columnAlias': 'TABLE_NAME', 'bsonType': 'string', 'value': 'enriched_events'}]}]\n"
     ]
    }
   ],
   "source": [
    "sql = 'select TABLE_NAME from INFORMATION_SCHEMA.TABLES'\n",
    "pipeline = [\n",
    "    {\n",
    "        '$sql': {\n",
    "            'statement': sql,\n",
    "            'format': \"jdbc\",\n",
    "            'dialect': \"mysql\",\n",
    "        }\n",
    "    }\n",
    "]\n",
    "print(list(dl_a_conn.aggregate(pipeline)))"
   ]
  },
  {
   "cell_type": "markdown",
   "metadata": {},
   "source": [
    "# Query MongoDB cluster"
   ]
  },
  {
   "cell_type": "code",
   "execution_count": 21,
   "metadata": {},
   "outputs": [
    {
     "name": "stdout",
     "output_type": "stream",
     "text": [
      "[{'emptyResultSet': True,\n",
      "  'values': [{'bsonType': 'objectId',\n",
      "              'column': '_id',\n",
      "              'columnAlias': '_id',\n",
      "              'database': 'esteininger-personal-datalake',\n",
      "              'table': 'clickstream',\n",
      "              'tableAlias': 'clickstream',\n",
      "              'value': None},\n",
      "             {'bsonType': 'string',\n",
      "              'column': 'event',\n",
      "              'columnAlias': 'event',\n",
      "              'database': 'esteininger-personal-datalake',\n",
      "              'table': 'clickstream',\n",
      "              'tableAlias': 'clickstream',\n",
      "              'value': None},\n",
      "             {'bsonType': 'long',\n",
      "              'column': 'inc',\n",
      "              'columnAlias': 'inc',\n",
      "              'database': 'esteininger-personal-datalake',\n",
      "              'table': 'clickstream',\n",
      "              'tableAlias': 'clickstream',\n",
      "              'value': None},\n",
      "             {'bsonType': 'double',\n",
      "              'column': 'meta.timestamp',\n",
      "              'columnAlias': 'meta.timestamp',\n",
      "              'database': 'esteininger-personal-datalake',\n",
      "              'table': 'clickstream',\n",
      "              'tableAlias': 'clickstream',\n",
      "              'value': None},\n",
      "             {'bsonType': 'string',\n",
      "              'column': 'properties.foo',\n",
      "              'columnAlias': 'properties.foo',\n",
      "              'database': 'esteininger-personal-datalake',\n",
      "              'table': 'clickstream',\n",
      "              'tableAlias': 'clickstream',\n",
      "              'value': None},\n",
      "             {'bsonType': 'string',\n",
      "              'column': 'properties.lorem',\n",
      "              'columnAlias': 'properties.lorem',\n",
      "              'database': 'esteininger-personal-datalake',\n",
      "              'table': 'clickstream',\n",
      "              'tableAlias': 'clickstream',\n",
      "              'value': None},\n",
      "             {'bsonType': 'string',\n",
      "              'column': 'properties.path',\n",
      "              'columnAlias': 'properties.path',\n",
      "              'database': 'esteininger-personal-datalake',\n",
      "              'table': 'clickstream',\n",
      "              'tableAlias': 'clickstream',\n",
      "              'value': None},\n",
      "             {'bsonType': 'string',\n",
      "              'column': 'properties.referrer',\n",
      "              'columnAlias': 'properties.referrer',\n",
      "              'database': 'esteininger-personal-datalake',\n",
      "              'table': 'clickstream',\n",
      "              'tableAlias': 'clickstream',\n",
      "              'value': None},\n",
      "             {'bsonType': 'string',\n",
      "              'column': 'properties.title',\n",
      "              'columnAlias': 'properties.title',\n",
      "              'database': 'esteininger-personal-datalake',\n",
      "              'table': 'clickstream',\n",
      "              'tableAlias': 'clickstream',\n",
      "              'value': None},\n",
      "             {'bsonType': 'string',\n",
      "              'column': 'properties.url',\n",
      "              'columnAlias': 'properties.url',\n",
      "              'database': 'esteininger-personal-datalake',\n",
      "              'table': 'clickstream',\n",
      "              'tableAlias': 'clickstream',\n",
      "              'value': None},\n",
      "             {'bsonType': 'string',\n",
      "              'column': 'user_id',\n",
      "              'columnAlias': 'user_id',\n",
      "              'database': 'esteininger-personal-datalake',\n",
      "              'table': 'clickstream',\n",
      "              'tableAlias': 'clickstream',\n",
      "              'value': None}]}]\n"
     ]
    }
   ],
   "source": [
    "sql = \"select * from `clickstream` limit 2\"\n",
    "\n",
    "pipeline = [\n",
    "    {\n",
    "        '$sql': {\n",
    "            'statement': sql,\n",
    "            'format': \"jdbc\",\n",
    "            'dialect': \"mysql\",\n",
    "        }\n",
    "    }\n",
    "]\n",
    "\n",
    "a_sql_q = dl_a_conn.aggregate(pipeline)\n",
    "pprint(list(a_sql_q))"
   ]
  },
  {
   "cell_type": "markdown",
   "metadata": {},
   "source": [
    "# Query S3 via Atlas Data Lake"
   ]
  },
  {
   "cell_type": "code",
   "execution_count": 22,
   "metadata": {},
   "outputs": [
    {
     "name": "stdout",
     "output_type": "stream",
     "text": [
      "[{'emptyResultSet': True,\n",
      "  'values': [{'bsonType': 'objectId',\n",
      "              'column': '_id',\n",
      "              'columnAlias': '_id',\n",
      "              'database': 'esteininger-personal-datalake',\n",
      "              'table': 'analytics.1',\n",
      "              'tableAlias': 'analytics.1',\n",
      "              'value': None},\n",
      "             {'bsonType': 'string',\n",
      "              'column': 'event',\n",
      "              'columnAlias': 'event',\n",
      "              'database': 'esteininger-personal-datalake',\n",
      "              'table': 'analytics.1',\n",
      "              'tableAlias': 'analytics.1',\n",
      "              'value': None},\n",
      "             {'bsonType': 'long',\n",
      "              'column': 'inc',\n",
      "              'columnAlias': 'inc',\n",
      "              'database': 'esteininger-personal-datalake',\n",
      "              'table': 'analytics.1',\n",
      "              'tableAlias': 'analytics.1',\n",
      "              'value': None},\n",
      "             {'bsonType': 'double',\n",
      "              'column': 'meta.timestamp',\n",
      "              'columnAlias': 'meta.timestamp',\n",
      "              'database': 'esteininger-personal-datalake',\n",
      "              'table': 'analytics.1',\n",
      "              'tableAlias': 'analytics.1',\n",
      "              'value': None},\n",
      "             {'bsonType': 'string',\n",
      "              'column': 'properties.foo',\n",
      "              'columnAlias': 'properties.foo',\n",
      "              'database': 'esteininger-personal-datalake',\n",
      "              'table': 'analytics.1',\n",
      "              'tableAlias': 'analytics.1',\n",
      "              'value': None},\n",
      "             {'bsonType': 'string',\n",
      "              'column': 'properties.lorem',\n",
      "              'columnAlias': 'properties.lorem',\n",
      "              'database': 'esteininger-personal-datalake',\n",
      "              'table': 'analytics.1',\n",
      "              'tableAlias': 'analytics.1',\n",
      "              'value': None},\n",
      "             {'bsonType': 'string',\n",
      "              'column': 'properties.path',\n",
      "              'columnAlias': 'properties.path',\n",
      "              'database': 'esteininger-personal-datalake',\n",
      "              'table': 'analytics.1',\n",
      "              'tableAlias': 'analytics.1',\n",
      "              'value': None},\n",
      "             {'bsonType': 'string',\n",
      "              'column': 'properties.referrer',\n",
      "              'columnAlias': 'properties.referrer',\n",
      "              'database': 'esteininger-personal-datalake',\n",
      "              'table': 'analytics.1',\n",
      "              'tableAlias': 'analytics.1',\n",
      "              'value': None},\n",
      "             {'bsonType': 'string',\n",
      "              'column': 'properties.title',\n",
      "              'columnAlias': 'properties.title',\n",
      "              'database': 'esteininger-personal-datalake',\n",
      "              'table': 'analytics.1',\n",
      "              'tableAlias': 'analytics.1',\n",
      "              'value': None},\n",
      "             {'bsonType': 'string',\n",
      "              'column': 'properties.url',\n",
      "              'columnAlias': 'properties.url',\n",
      "              'database': 'esteininger-personal-datalake',\n",
      "              'table': 'analytics.1',\n",
      "              'tableAlias': 'analytics.1',\n",
      "              'value': None},\n",
      "             {'bsonType': 'string',\n",
      "              'column': 'user_id',\n",
      "              'columnAlias': 'user_id',\n",
      "              'database': 'esteininger-personal-datalake',\n",
      "              'table': 'analytics.1',\n",
      "              'tableAlias': 'analytics.1',\n",
      "              'value': None}]}]\n"
     ]
    }
   ],
   "source": [
    "sql = \"select * from `analytics.1` limit 2\"\n",
    "\n",
    "pipeline = [\n",
    "    {\n",
    "        '$sql': {\n",
    "            'statement': sql,\n",
    "            'format': \"jdbc\",\n",
    "            'dialect': \"mysql\",\n",
    "        }\n",
    "    }\n",
    "]\n",
    "\n",
    "r = dl_a_conn.aggregate(pipeline)\n",
    "pprint(list(r))"
   ]
  },
  {
   "cell_type": "code",
   "execution_count": null,
   "metadata": {},
   "outputs": [],
   "source": []
  }
 ],
 "metadata": {
  "kernelspec": {
   "display_name": "Python 3",
   "language": "python",
   "name": "python3"
  },
  "language_info": {
   "codemirror_mode": {
    "name": "ipython",
    "version": 3
   },
   "file_extension": ".py",
   "mimetype": "text/x-python",
   "name": "python",
   "nbconvert_exporter": "python",
   "pygments_lexer": "ipython3",
   "version": "3.8.1"
  }
 },
 "nbformat": 4,
 "nbformat_minor": 4
}
