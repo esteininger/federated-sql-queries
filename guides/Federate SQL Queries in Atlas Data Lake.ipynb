{
 "cells": [
  {
   "cell_type": "markdown",
   "metadata": {},
   "source": [
    "### First make sure your atlas data lake configuration is set. I have mine to use S3 and Atlas as sources and databases:\n",
    "\n",
    "```json\n",
    "{\n",
    "  \"databases\": [\n",
    "    {\n",
    "      \"name\": \"esteininger-personal-datalake-s3\",\n",
    "      \"collections\": [\n",
    "        {\n",
    "          \"name\": \"*\",\n",
    "          \"dataSources\": [\n",
    "            {\n",
    "              \"path\": \"{collectionName()}\",\n",
    "              \"storeName\": \"esteininger-personal-datalake\"\n",
    "            }\n",
    "          ]\n",
    "        }\n",
    "      ],\n",
    "      \"views\": []\n",
    "    },\n",
    "    {\n",
    "      \"name\": \"esteininger-personal-datalake-atlas\",\n",
    "      \"collections\": [\n",
    "        {\n",
    "          \"name\": \"*\",\n",
    "          \"dataSources\": [\n",
    "            {\n",
    "              \"database\": \"analytics\",\n",
    "              \"storeName\": \"FINRA-DXT\"\n",
    "            }\n",
    "          ]\n",
    "        }\n",
    "      ],\n",
    "      \"views\": []\n",
    "    }\n",
    "  ],\n",
    "  \"stores\": [\n",
    "    {\n",
    "      \"provider\": \"s3\",\n",
    "      \"bucket\": \"esteininger-personal-datalake\",\n",
    "      \"delimiter\": \"/\",\n",
    "      \"includeTags\": false,\n",
    "      \"name\": \"esteininger-personal-datalake\",\n",
    "      \"region\": \"us-east-2\"\n",
    "    },\n",
    "    {\n",
    "      \"provider\": \"atlas\",\n",
    "      \"clusterName\": \"FINRA-DXT\",\n",
    "      \"name\": \"FINRA-DXT\",\n",
    "      \"projectId\": \"5e382c949ccf640b0d48ec82\"\n",
    "    }\n",
    "  ]\n",
    "}\n",
    "\n",
    "```\n"
   ]
  },
  {
   "cell_type": "code",
   "execution_count": 79,
   "metadata": {},
   "outputs": [],
   "source": [
    "from datetime import datetime\n",
    "import ssl\n",
    "from config import datalake_url\n",
    "from pymongo import MongoClient\n",
    "from pprint import pprint"
   ]
  },
  {
   "cell_type": "markdown",
   "metadata": {},
   "source": [
    "# Create connection objects"
   ]
  },
  {
   "cell_type": "code",
   "execution_count": null,
   "metadata": {},
   "outputs": [],
   "source": [
    "dl_atlas_conn = MongoClient(datalake_url, ssl_cert_reqs=ssl.CERT_NONE)['esteininger-personal-datalake-atlas']\n",
    "dl_s3_conn = MongoClient(datalake_url, ssl_cert_reqs=ssl.CERT_NONE)['esteininger-personal-datalake-s3']"
   ]
  },
  {
   "cell_type": "markdown",
   "metadata": {},
   "source": [
    "# Out to S3"
   ]
  },
  {
   "cell_type": "code",
   "execution_count": null,
   "metadata": {},
   "outputs": [],
   "source": [
    "# splitting collection in half\n",
    "pipeline = [\n",
    "    {\n",
    "        '$match': {\n",
    "            'inc': {\n",
    "                '$lt': 25\n",
    "            }\n",
    "        }\n",
    "    },\n",
    "    {\n",
    "        '$out': {\n",
    "            's3': {\n",
    "                'bucket': 'esteininger-personal-datalake',\n",
    "                'filename': 'analytics',\n",
    "                \"region\": \"us-east-2\",\n",
    "                'format': {\n",
    "                    'name': 'json'\n",
    "                }\n",
    "            }\n",
    "        }\n",
    "    }\n",
    "]\n",
    "\n",
    "c = dl_atlas_conn.clickstream.aggregate(pipeline)\n",
    "pprint(list(c))\n",
    "pprint('Archive created!')\n"
   ]
  },
  {
   "cell_type": "markdown",
   "metadata": {},
   "source": [
    "# Create the schema"
   ]
  },
  {
   "cell_type": "code",
   "execution_count": null,
   "metadata": {},
   "outputs": [],
   "source": [
    "# optionally, can exclude some key value pairs (defaults to taking a sample size of 1000 docs)\n",
    "\n",
    "s3_schema = dl_s3_conn.command({'sqlGenerateSchema': 1, 'setSchemas': True})\n",
    "atlas_schema = dl_atlas_conn.command({'sqlGenerateSchema': 1, 'setSchemas': True})\n",
    "\n",
    "print(\"s3 sql schema\", s3_schema)\n",
    "print(\"atlas sql schema\", atlas_schema)"
   ]
  },
  {
   "cell_type": "markdown",
   "metadata": {},
   "source": [
    "# Show the Schema was created"
   ]
  },
  {
   "cell_type": "code",
   "execution_count": null,
   "metadata": {},
   "outputs": [],
   "source": [
    "atlas_clickstream = dl_atlas_conn.command({'sqlGetSchema': \"clickstream\"})\n",
    "\n",
    "s3_analytics = dl_atlas_conn.command({'sqlGetSchema': \"clickstream\"})\n",
    "\n",
    "print(atlas_clickstream)\n",
    "print(s3_analytics)"
   ]
  },
  {
   "cell_type": "markdown",
   "metadata": {},
   "source": [
    "# Query MongoDB cluster"
   ]
  },
  {
   "cell_type": "code",
   "execution_count": null,
   "metadata": {},
   "outputs": [],
   "source": [
    "sql = \"select * from `clickstream` limit 2\"\n",
    "\n",
    "pipeline = [\n",
    "    {\n",
    "        '$sql': {\n",
    "            'statement': sql,\n",
    "            'format': \"jdbc\",\n",
    "            'dialect': \"mysql\",\n",
    "        }\n",
    "    }\n",
    "]\n",
    "\n",
    "a_sql_q = dl_atlas_conn.aggregate(pipeline)\n",
    "pprint(list(a_sql_q))"
   ]
  },
  {
   "cell_type": "markdown",
   "metadata": {},
   "source": [
    "# Query S3 via Atlas Data Lake"
   ]
  },
  {
   "cell_type": "code",
   "execution_count": null,
   "metadata": {},
   "outputs": [],
   "source": [
    "sql = \"select * from `analytics.1` limit 2\"\n",
    "\n",
    "pipeline = [\n",
    "    {\n",
    "        '$sql': {\n",
    "            'statement': sql,\n",
    "            'format': \"jdbc\",\n",
    "            'dialect': \"mysql\",\n",
    "        }\n",
    "    }\n",
    "]\n",
    "\n",
    "r = dl_s3_conn.aggregate(pipeline)\n",
    "pprint(list(r))"
   ]
  },
  {
   "cell_type": "code",
   "execution_count": null,
   "metadata": {},
   "outputs": [],
   "source": []
  }
 ],
 "metadata": {
  "kernelspec": {
   "display_name": "Python 3",
   "language": "python",
   "name": "python3"
  },
  "language_info": {
   "codemirror_mode": {
    "name": "ipython",
    "version": 3
   },
   "file_extension": ".py",
   "mimetype": "text/x-python",
   "name": "python",
   "nbconvert_exporter": "python",
   "pygments_lexer": "ipython3",
   "version": "3.8.1"
  }
 },
 "nbformat": 4,
 "nbformat_minor": 4
}
